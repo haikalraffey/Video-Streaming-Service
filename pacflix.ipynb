{
 "cells": [
  {
   "cell_type": "code",
   "execution_count": 1,
   "metadata": {},
   "outputs": [],
   "source": [
    "from pacflix import Pacflix"
   ]
  },
  {
   "cell_type": "code",
   "execution_count": 12,
   "metadata": {},
   "outputs": [
    {
     "data": {
      "text/plain": [
       "['Raffey', 'Refa', 'Xan', 'Abigail', 'Bagus', 'Bara']"
      ]
     },
     "execution_count": 12,
     "metadata": {},
     "output_type": "execute_result"
    }
   ],
   "source": [
    "Pacflix.referral_code"
   ]
  },
  {
   "cell_type": "code",
   "execution_count": 13,
   "metadata": {},
   "outputs": [
    {
     "data": {
      "text/plain": [
       "{'Raffey': ['Standard Plan', 7],\n",
       " 'Refa': ['Standard Plan', 13],\n",
       " 'Xan': ['Standard Plan', 24],\n",
       " 'Abigail': ['Premium Plan', 5],\n",
       " 'Bagus': ['Basic Plan', 11],\n",
       " 'Bara': ['Basic Plan', 3]}"
      ]
     },
     "execution_count": 13,
     "metadata": {},
     "output_type": "execute_result"
    }
   ],
   "source": [
    "Pacflix.user_acc"
   ]
  },
  {
   "cell_type": "code",
   "execution_count": 2,
   "metadata": {},
   "outputs": [
    {
     "name": "stdout",
     "output_type": "stream",
     "text": [
      "Your account succesfully created. By sharing this code 'Raffey' to your friends, you can get benefit. Enjoy!\n"
     ]
    }
   ],
   "source": [
    "Raffey = Pacflix(\"Raffey\", None, None)"
   ]
  },
  {
   "cell_type": "code",
   "execution_count": 3,
   "metadata": {},
   "outputs": [
    {
     "name": "stdout",
     "output_type": "stream",
     "text": [
      "Your account succesfully created. By sharing this code 'Refa' to your friends, you can get benefit. Enjoy!\n",
      "Your account succesfully created. By sharing this code 'Xan' to your friends, you can get benefit. Enjoy!\n",
      "Your account succesfully created. By sharing this code 'Abigail' to your friends, you can get benefit. Enjoy!\n",
      "Your account succesfully created. By sharing this code 'Bagus' to your friends, you can get benefit. Enjoy!\n"
     ]
    }
   ],
   "source": [
    "Refa =Pacflix(\"Refa\", \"Basic Plan\", 13)\n",
    "Xan = Pacflix(\"Xan\", \"Standard Plan\", 24)\n",
    "Abigail = Pacflix(\"Abigail\", \"Premium Plan\", 5)\n",
    "Bagus = Pacflix(\"Bagus\", \"Basic Plan\", 11)"
   ]
  },
  {
   "cell_type": "code",
   "execution_count": 4,
   "metadata": {},
   "outputs": [
    {
     "name": "stdout",
     "output_type": "stream",
     "text": [
      "List of Pacflix stream plan :\n",
      "--------------------------------\n",
      "1. Basic Plan\n",
      "What you will get :\n",
      "Standard Definiton (SD) quality, Download the content, 1 number of device, 3rd party movies\n",
      "Price : Rp 120.000\n",
      "--------------------------------\n",
      "2. Standard Plan\n",
      "What you will get :\n",
      "High Definiton (HD) quality, Download the content, 2 number of devices, 3rd party movies + Sports (Football, Racing, Basketball)\n",
      "Price : Rp 160.000\n",
      "--------------------------------\n",
      "3. Premium Plan\n",
      "What you will get :\n",
      "Ultra High Definiton (UHD) quality, Download the content, 4 number of devices, 3rd party movies + Sports (Football, Racing, Basketball) + Pacflix Original\n",
      "Price : Rp 200.000\n"
     ]
    }
   ],
   "source": [
    "Abigail.list_plan()"
   ]
  },
  {
   "cell_type": "code",
   "execution_count": 5,
   "metadata": {},
   "outputs": [
    {
     "name": "stdout",
     "output_type": "stream",
     "text": [
      "Your current plan is Basic Plan.\n",
      "Your benefits are :\n",
      "Standard Definiton (SD) quality, Download the content, 1 number of device, 3rd party movies\n",
      "You already subscribe this plan for 11 months\n"
     ]
    }
   ],
   "source": [
    "Bagus.check_plan()"
   ]
  },
  {
   "cell_type": "code",
   "execution_count": 6,
   "metadata": {},
   "outputs": [
    {
     "name": "stdout",
     "output_type": "stream",
     "text": [
      "You are selecting Standard Plan with referral code from Xan, with total price Rp 153600.0 per month for 7 months.\n"
     ]
    }
   ],
   "source": [
    "Raffey.purchase(\"Standard Plan\", 7, \"Xan\")"
   ]
  },
  {
   "cell_type": "code",
   "execution_count": 7,
   "metadata": {},
   "outputs": [
    {
     "name": "stdout",
     "output_type": "stream",
     "text": [
      "Your current plan is Standard Plan.\n",
      "Your benefits are :\n",
      "High Definiton (HD) quality, Download the content, 2 number of devices, 3rd party movies + Sports (Football, Racing, Basketball)\n",
      "You already subscribe this plan for 7 months\n"
     ]
    }
   ],
   "source": [
    "Raffey.check_plan()"
   ]
  },
  {
   "cell_type": "code",
   "execution_count": 8,
   "metadata": {},
   "outputs": [
    {
     "name": "stdout",
     "output_type": "stream",
     "text": [
      "Your account succesfully created. By sharing this code 'Bara' to your friends, you can get benefit. Enjoy!\n"
     ]
    }
   ],
   "source": [
    "Bara = Pacflix(\"Bara\", None, None)"
   ]
  },
  {
   "cell_type": "code",
   "execution_count": 9,
   "metadata": {},
   "outputs": [
    {
     "name": "stdout",
     "output_type": "stream",
     "text": [
      "You are selecting Basic Plan with referral code from Bagus, with total price Rp 115200.0 per month for 3 months.\n"
     ]
    }
   ],
   "source": [
    "Bara.purchase(\"Basic Plan\", 3, \"Bagus\")"
   ]
  },
  {
   "cell_type": "code",
   "execution_count": 10,
   "metadata": {},
   "outputs": [
    {
     "name": "stdout",
     "output_type": "stream",
     "text": [
      "You are upgrading to Standard Plan with discount, the price you pay Rp 152000.0.\n"
     ]
    }
   ],
   "source": [
    "Refa.upgrade_plan(\"Standard Plan\", 13)"
   ]
  },
  {
   "cell_type": "code",
   "execution_count": 11,
   "metadata": {},
   "outputs": [
    {
     "name": "stdout",
     "output_type": "stream",
     "text": [
      "You already in the highest plan. You can't upgrade or downgrade to any plan.\n"
     ]
    }
   ],
   "source": [
    "Abigail.upgrade_plan(\"Basic Plan\", 5)"
   ]
  }
 ],
 "metadata": {
  "kernelspec": {
   "display_name": "Python 3",
   "language": "python",
   "name": "python3"
  },
  "language_info": {
   "codemirror_mode": {
    "name": "ipython",
    "version": 3
   },
   "file_extension": ".py",
   "mimetype": "text/x-python",
   "name": "python",
   "nbconvert_exporter": "python",
   "pygments_lexer": "ipython3",
   "version": "3.8.6"
  }
 },
 "nbformat": 4,
 "nbformat_minor": 2
}
